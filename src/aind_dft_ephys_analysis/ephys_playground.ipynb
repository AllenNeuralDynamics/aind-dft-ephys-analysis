{
 "cells": [
  {
   "cell_type": "code",
   "execution_count": null,
   "metadata": {},
   "outputs": [],
   "source": [
    "from nwb_utils import NWBUtils\n",
    "\n",
    "# Example ephys session\n",
    "ephys_path = \"/root/capsule/data/\" \\\n",
    "             \"ecephys_776293_2025-02-14_15-19-17_sorted_2025-02-28_21-37-07/\" \\\n",
    "             \"nwb/\" \\\n",
    "             \"ecephys_776293_2025-02-14_15-19-17_experiment1_recording1.nwb\"\n",
    "\n",
    "# Example behavior/ophys session\n",
    "ophys_path = \"/root/capsule/data/\" \\\n",
    "             \"behavior_777403_2025-04-11_16-53-47_processed_2025-04-12_04-37-54/\" \\\n",
    "             \"nwb/\" \\\n",
    "             \"behavior_777403_2025-04-11_16-53-47.nwb\"\n",
    "\n",
    "# Read ephys\n",
    "ephys_data = NWBUtils.read_ephys_nwb(nwb_full_path=ephys_path)\n",
    "# ephys_data will be None on failure, or the NWBFile-like object on success.\n",
    "\n",
    "# Read ophys/behavior\n",
    "ophys_data = NWBUtils.read_ophys_nwb(nwb_full_path=ophys_path)\n",
    "# ophys_data will likewise be None on failure, or the NWBFile-like object on success.\n"
   ]
  },
  {
   "cell_type": "code",
   "execution_count": null,
   "metadata": {},
   "outputs": [],
   "source": [
    "from nwb_utils import NWBUtils\n",
    "\n",
    "ephys_data = NWBUtils.read_ephys_nwb(\n",
    "    session_name=\"776293_2025-02-14_15-19-17\"\n",
    ")\n",
    "\n",
    "ophys_data = NWBUtils.read_ophys_nwb(\n",
    "    session_name=\"777403_2025-04-11_16-53-47\"\n",
    ")\n"
   ]
  },
  {
   "cell_type": "code",
   "execution_count": null,
   "metadata": {},
   "outputs": [],
   "source": [
    "from general_utils import find_ephys_sessions, find_behavior_sessions\n",
    "from nwb_utils import NWBUtils\n",
    "\n",
    "def main():\n",
    "    data_root = '/root/capsule/data/'\n",
    "\n",
    "    # 1. Find all ephys sessions\n",
    "    all_ephys, ephys_by_animal, spike_sorted = find_ephys_sessions(data_root)\n",
    "    print(\"All ephys sessions:\", all_ephys)\n",
    "    print(\"Spike-sorted sessions:\", spike_sorted)\n",
    "\n",
    "    # 2. Find all behavior sessions\n",
    "    all_behav, behav_by_animal, processed_behav = find_behavior_sessions(data_root)\n",
    "    print(\"All behavior sessions:\", all_behav)\n",
    "    print(\"Processed behavior sessions:\", processed_behav)\n",
    "\n",
    "    # 3. Read the first spike-sorted ephys session\n",
    "    if spike_sorted:\n",
    "        first_ephys = spike_sorted[0]\n",
    "        print(f\"\\nLoading ephys session: {first_ephys}\")\n",
    "        ephys_data = NWBUtils.read_ephys_nwb(\n",
    "            session_name=first_ephys,\n",
    "            folder_path=data_root\n",
    "        )\n",
    "        # ephys_data is None on failure, or the NWBFile-like object on success\n",
    "\n",
    "    # 4. Read the first processed behavior session\n",
    "    if processed_behav:\n",
    "        first_behav = processed_behav[0]\n",
    "        print(f\"\\nLoading behavior session: {first_behav}\")\n",
    "        behav_data = NWBUtils.read_ophys_nwb(\n",
    "            session_name=first_behav,\n",
    "            folder_path=data_root\n",
    "        )\n",
    "        # behav_data is None on failure, or the NWBFile-like object on success\n",
    "\n",
    "if __name__ == \"__main__\":\n",
    "    main()\n"
   ]
  },
  {
   "cell_type": "code",
   "execution_count": null,
   "metadata": {},
   "outputs": [],
   "source": [
    "from behavior_utils import extract_event_timestamps\n",
    "from nwb_utils import NWBUtils\n",
    "behav_data = NWBUtils.read_ophys_nwb(session_name='behavior_762206_2025-01-17_16-20-02_processed_2025-01-18_07-17-12')\n",
    "behav_data = NWBUtils.read_behavior_nwb(session_name='ecephys_753125_2024-10-14_15-37-15_sorted_2024-11-09_20-07-38')\n",
    "extract_event_timestamps(behav_data,'left_lick')"
   ]
  },
  {
   "cell_type": "code",
   "execution_count": null,
   "metadata": {},
   "outputs": [],
   "source": [
    "from ephys_behavior import plot_raster_graph\n",
    "from nwb_utils import NWBUtils\n",
    "from behavior_utils import extract_fitted_data, find_trials,get_fitted_model_names\n",
    "\n",
    "\n",
    "session_name='ecephys_776293_2025-02-18_12-51-36_sorted_2025-03-30_05-50-33'\n",
    "session_name='764790_2024-12-19_16-11-34_sorted_2025-02-21_14-46-33'\n",
    "#session_name='764790_2024-12-19_16-11-34'\n",
    "print(get_fitted_model_names(session_name=session_name))\n",
    "\n",
    "nwb_data,tag=NWBUtils.combine_nwb(session_name=session_name)\n",
    "fitted_data=extract_fitted_data(nwb_behavior_data=nwb_data,session_name=session_name,model_alias='QLearning_L1F1_CK1_softmax',latent_name='q_value_difference')\n",
    "exclude_trials=find_trials(nwb_behavior_data=nwb_data,trial_type='no_response')\n",
    "\n",
    "plot_raster_graph(nwb_data=nwb_data,unit_index=100,fitted_data=fitted_data,exclude_trials=exclude_trials,latent_name='q_value_difference')\n",
    "plot_raster_graph(nwb_data=nwb_data,unit_index=100,align_to_event='left_lick',save_figure=True,figure_name_prefix='764790_2024-12-19_16-11-34',save_format='pdf')\n",
    "\n",
    "nwb_data.io.close()\n"
   ]
  },
  {
   "cell_type": "code",
   "execution_count": null,
   "metadata": {},
   "outputs": [],
   "source": [
    "from ephys_behavior import plot_raster_graph,get_units_passed_default_qc\n",
    "from nwb_utils import NWBUtils\n",
    "from behavior_utils import extract_fitted_data, find_trials,get_fitted_model_names\n",
    "\n",
    "\n",
    "session_name='ecephys_776293_2025-02-18_12-51-36_sorted_2025-03-30_05-50-33'\n",
    "session_name='764790_2024-12-19_16-11-34_sorted_2025-02-21_14-46-33'\n",
    "#session_name='764790_2024-12-19_16-11-34'\n",
    "print(get_fitted_model_names(session_name=session_name))\n",
    "\n",
    "ephys_nwb=NWBUtils.read_ephys_nwb(session_name=session_name)\n",
    "units_passing_qc=get_units_passed_default_qc(ephys_nwb)\n",
    "\n",
    "ephys_nwb.io.close()"
   ]
  },
  {
   "cell_type": "code",
   "execution_count": 4,
   "metadata": {},
   "outputs": [],
   "source": [
    "from ephys_behavior import plot_raster_graph,get_the_mean_firing_rate,get_the_mean_firing_rate_combined_sessions\n",
    "from nwb_utils import NWBUtils\n",
    "from behavior_utils import extract_fitted_data, find_trials,get_fitted_model_names\n",
    "\n",
    "\n",
    "session_name='ecephys_776293_2025-02-18_12-51-36_sorted_2025-03-30_05-50-33'\n",
    "session_name='764790_2024-12-19_16-11-34_sorted_2025-02-21_14-46-33'\n",
    "#session_name='764790_2024-12-19_16-11-34'\n",
    "print(get_fitted_model_names(session_name=session_name))\n",
    "\n",
    "nwb_data,tag=NWBUtils.combine_nwb(session_name=session_name)\n",
    "#df=get_the_mean_firing_rate(nwb_data=nwb_data,time_windows=[[-1,0],[0,2]],z_score=[True,False])\n",
    "df=get_the_mean_firing_rate_combined_sessions(session_names=['ecephys_764769_2024-12-11_18-21-49_sorted_2024-12-13_10-04-48','764790_2024-12-19_16-11-34_sorted_2025-02-21_14-46-33'])\n",
    "\n"
   ]
  }
 ],
 "metadata": {
  "kernelspec": {
   "display_name": "base",
   "language": "python",
   "name": "python3"
  },
  "language_info": {
   "codemirror_mode": {
    "name": "ipython",
    "version": 3
   },
   "file_extension": ".py",
   "mimetype": "text/x-python",
   "name": "python",
   "nbconvert_exporter": "python",
   "pygments_lexer": "ipython3",
   "version": "3.10.9"
  }
 },
 "nbformat": 4,
 "nbformat_minor": 2
}
