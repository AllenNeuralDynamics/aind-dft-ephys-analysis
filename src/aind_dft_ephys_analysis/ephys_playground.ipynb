{
 "cells": [
  {
   "cell_type": "code",
   "execution_count": null,
   "metadata": {},
   "outputs": [],
   "source": [
    "from nwb_utils import NWBUtils\n",
    "\n",
    "# Example ephys session\n",
    "ephys_path = \"/root/capsule/data/\" \\\n",
    "             \"ecephys_776293_2025-02-14_15-19-17_sorted_2025-02-28_21-37-07/\" \\\n",
    "             \"nwb/\" \\\n",
    "             \"ecephys_776293_2025-02-14_15-19-17_experiment1_recording1.nwb\"\n",
    "\n",
    "# Example behavior/ophys session\n",
    "ophys_path = \"/root/capsule/data/\" \\\n",
    "             \"behavior_777403_2025-04-11_16-53-47_processed_2025-04-12_04-37-54/\" \\\n",
    "             \"nwb/\" \\\n",
    "             \"behavior_777403_2025-04-11_16-53-47.nwb\"\n",
    "\n",
    "# Read ephys\n",
    "ephys_data = NWBUtils.read_ephys_nwb(nwb_full_path=ephys_path)\n",
    "# ephys_data will be None on failure, or the NWBFile-like object on success.\n",
    "\n",
    "# Read ophys/behavior\n",
    "ophys_data = NWBUtils.read_ophys_nwb(nwb_full_path=ophys_path)\n",
    "# ophys_data will likewise be None on failure, or the NWBFile-like object on success.\n"
   ]
  },
  {
   "cell_type": "code",
   "execution_count": null,
   "metadata": {},
   "outputs": [],
   "source": [
    "from nwb_utils import NWBUtils\n",
    "\n",
    "ephys_data = NWBUtils.read_ephys_nwb(\n",
    "    session_name=\"776293_2025-02-14_15-19-17\"\n",
    ")\n",
    "\n",
    "ophys_data = NWBUtils.read_ophys_nwb(\n",
    "    session_name=\"777403_2025-04-11_16-53-47\"\n",
    ")\n"
   ]
  },
  {
   "cell_type": "code",
   "execution_count": null,
   "metadata": {},
   "outputs": [],
   "source": [
    "from general_utils import find_ephys_sessions, find_behavior_sessions\n",
    "from nwb_utils import NWBUtils\n",
    "\n",
    "def main():\n",
    "    data_root = '/root/capsule/data/'\n",
    "\n",
    "    # 1. Find all ephys sessions\n",
    "    all_ephys, ephys_by_animal, spike_sorted = find_ephys_sessions(data_root)\n",
    "    print(\"All ephys sessions:\", all_ephys)\n",
    "    print(\"Spike-sorted sessions:\", spike_sorted)\n",
    "\n",
    "    # 2. Find all behavior sessions\n",
    "    all_behav, behav_by_animal, processed_behav = find_behavior_sessions(data_root)\n",
    "    print(\"All behavior sessions:\", all_behav)\n",
    "    print(\"Processed behavior sessions:\", processed_behav)\n",
    "\n",
    "    # 3. Read the first spike-sorted ephys session\n",
    "    if spike_sorted:\n",
    "        first_ephys = spike_sorted[0]\n",
    "        print(f\"\\nLoading ephys session: {first_ephys}\")\n",
    "        ephys_data = NWBUtils.read_ephys_nwb(\n",
    "            session_name=first_ephys,\n",
    "            folder_path=data_root\n",
    "        )\n",
    "        # ephys_data is None on failure, or the NWBFile-like object on success\n",
    "\n",
    "    # 4. Read the first processed behavior session\n",
    "    if processed_behav:\n",
    "        first_behav = processed_behav[0]\n",
    "        print(f\"\\nLoading behavior session: {first_behav}\")\n",
    "        behav_data = NWBUtils.read_ophys_nwb(\n",
    "            session_name=first_behav,\n",
    "            folder_path=data_root\n",
    "        )\n",
    "        # behav_data is None on failure, or the NWBFile-like object on success\n",
    "\n",
    "if __name__ == \"__main__\":\n",
    "    main()\n"
   ]
  },
  {
   "cell_type": "code",
   "execution_count": null,
   "metadata": {},
   "outputs": [],
   "source": [
    "from behavior_utils import extract_event_timestamps\n",
    "from nwb_utils import NWBUtils\n",
    "behav_data = NWBUtils.read_ophys_nwb(session_name='behavior_762206_2025-01-17_16-20-02_processed_2025-01-18_07-17-12')\n",
    "behav_data = NWBUtils.read_behavior_nwb(session_name='ecephys_753125_2024-10-14_15-37-15_sorted_2024-11-09_20-07-38')\n",
    "extract_event_timestamps(behav_data,'left_lick')"
   ]
  },
  {
   "cell_type": "code",
   "execution_count": null,
   "metadata": {},
   "outputs": [],
   "source": [
    "from ephys_behavior import plot_raster_graph\n",
    "from nwb_utils import NWBUtils\n",
    "from behavior_utils import extract_fitted_data, find_trials,get_fitted_model_names\n",
    "\n",
    "\n",
    "session_name='ecephys_776293_2025-02-18_12-51-36_sorted_2025-03-30_05-50-33'\n",
    "session_name='764790_2024-12-19_16-11-34_sorted_2025-02-21_14-46-33'\n",
    "#session_name='764790_2024-12-19_16-11-34'\n",
    "print(get_fitted_model_names(session_name=session_name))\n",
    "\n",
    "nwb_data,tag=NWBUtils.combine_nwb(session_name=session_name)\n",
    "fitted_data=extract_fitted_data(nwb_behavior_data=nwb_data,session_name=session_name,model_alias='QLearning_L1F1_CK1_softmax',latent_name='q_value_difference')\n",
    "exclude_trials=find_trials(nwb_behavior_data=nwb_data,trial_type='no_response')\n",
    "\n",
    "plot_raster_graph(nwb_data=nwb_data,unit_index=100,fitted_data=fitted_data,exclude_trials=exclude_trials,latent_name='q_value_difference')\n",
    "plot_raster_graph(nwb_data=nwb_data,unit_index=100,align_to_event='left_lick',save_figure=True,figure_name_prefix='764790_2024-12-19_16-11-34',save_format='pdf')\n",
    "\n",
    "nwb_data.io.close()\n"
   ]
  },
  {
   "cell_type": "code",
   "execution_count": null,
   "metadata": {},
   "outputs": [],
   "source": [
    "from ephys_behavior import plot_raster_graph\n",
    "from nwb_utils import NWBUtils\n",
    "from behavior_utils import extract_fitted_data, find_trials,get_fitted_model_names,generate_behavior_summary\n",
    "\n",
    "\n",
    "session_name='ecephys_776293_2025-02-18_12-51-36_sorted_2025-03-30_05-50-33'\n",
    "session_name='764790_2024-12-19_16-11-34_sorted_2025-02-21_14-46-33'\n",
    "#session_name='764790_2024-12-19_16-11-34'\n",
    "print(get_fitted_model_names(session_name=session_name))\n",
    "\n",
    "nwb_data,tag=NWBUtils.combine_nwb(session_name=session_name)\n",
    "fitted_data=extract_fitted_data(nwb_behavior_data=nwb_data,session_name=session_name,model_alias='QLearning_L1F1_CK1_softmax',latent_name='q_value_difference')\n",
    "exclude_trials=find_trials(nwb_behavior_data=nwb_data,trial_type=['no_response','no_response'])\n",
    "\n",
    "\n",
    "summary=generate_behavior_summary(nwb_data)\n",
    "\n",
    "nwb_data.io.close()\n"
   ]
  },
  {
   "cell_type": "code",
   "execution_count": null,
   "metadata": {},
   "outputs": [],
   "source": [
    "from ephys_behavior import plot_raster_graph,get_units_passed_default_qc\n",
    "from nwb_utils import NWBUtils\n",
    "from behavior_utils import extract_fitted_data, find_trials,get_fitted_model_names\n",
    "\n",
    "\n",
    "session_name='ecephys_776293_2025-02-18_12-51-36_sorted_2025-03-30_05-50-33'\n",
    "session_name='764790_2024-12-19_16-11-34_sorted_2025-02-21_14-46-33'\n",
    "#session_name='764790_2024-12-19_16-11-34'\n",
    "print(get_fitted_model_names(session_name=session_name))\n",
    "\n",
    "ephys_nwb=NWBUtils.read_ephys_nwb(session_name=session_name)\n",
    "units_passing_qc=get_units_passed_default_qc(ephys_nwb)\n",
    "\n",
    "ephys_nwb.io.close()"
   ]
  },
  {
   "cell_type": "code",
   "execution_count": null,
   "metadata": {},
   "outputs": [],
   "source": [
    "from general_utils import find_behavior_sessions, find_ephys_sessions\n",
    "\n",
    "_,_,spike_sorted_sessions=find_ephys_sessions()\n",
    "print(spike_sorted_sessions)"
   ]
  },
  {
   "cell_type": "code",
   "execution_count": null,
   "metadata": {},
   "outputs": [],
   "source": [
    "from behavior_utils import generate_behavior_summary_combined\n",
    "\n",
    "\n",
    "df_combined_behavior_summary=generate_behavior_summary_combined(session_names=['ecephys_764769_2024-12-11_18-21-49_sorted_2024-12-13_10-04-48','764790_2024-12-19_16-11-34_sorted_2025-02-21_14-46-33'],save_result=True)\n",
    "\n",
    "\n"
   ]
  },
  {
   "cell_type": "code",
   "execution_count": null,
   "metadata": {},
   "outputs": [],
   "source": [
    "from ephys_behavior import plot_raster_graph,get_the_mean_firing_rate,get_the_mean_firing_rate_combined\n",
    "from nwb_utils import NWBUtils\n",
    "from behavior_utils import extract_fitted_data, find_trials,get_fitted_model_names\n",
    "\n",
    "#df=get_the_mean_firing_rate(nwb_data=nwb_data,time_windows=[[-1,0],[0,2]],z_score=[True,False])\n",
    "df_combined_firing_rates=get_the_mean_firing_rate_combined(session_names=['ecephys_764769_2024-12-11_18-21-49_sorted_2024-12-13_10-04-48','764790_2024-12-19_16-11-34_sorted_2025-02-21_14-46-33'],save_result=True)\n",
    "\n"
   ]
  },
  {
   "cell_type": "code",
   "execution_count": null,
   "metadata": {},
   "outputs": [],
   "source": [
    "from general_utils import smart_read_csv\n",
    "\n",
    "fn_rates  = '/root/capsule/results/combined_firing_rates.csv'\n",
    "fn_behav  = '/root/capsule/results/combined_behavior_summary.csv'\n",
    "\n",
    "\n",
    "# Now load both tables, and they'll come back with real lists & dicts\n",
    "df_combined_firing_rates    = smart_read_csv(fn_rates)\n",
    "df_combined_behavior_summary = smart_read_csv(fn_behav)\n"
   ]
  },
  {
   "cell_type": "code",
   "execution_count": null,
   "metadata": {},
   "outputs": [],
   "source": [
    "from ephys_behavior import correlate_firing_latent\n",
    "import pandas as pd\n",
    "\n",
    "models   = ['simple_LR','ARMA_model','ARDL_model','cyclic_shift','linear_shift','phase_randomization']\n",
    "variables = [\n",
    "    'QLearning_L1F1_CK1_softmax_q_value_difference',\n",
    "    # …\n",
    "    'QLearning_L2F1_CK1_softmax_RPE',\n",
    "]\n",
    "# Now call your function\n",
    "df_with_dicts = correlate_firing_latent(\n",
    "    df_combined_firing_rates,\n",
    "    df_combined_behavior_summary,\n",
    "    variables=variables,\n",
    "    correlation_model=models,\n",
    "    save_result=True\n",
    ")\n",
    "\n"
   ]
  },
  {
   "cell_type": "code",
   "execution_count": 2,
   "metadata": {},
   "outputs": [
    {
     "name": "stdout",
     "output_type": "stream",
     "text": [
      "Sessions to process: ['ecephys_753124_2024-12-10_17-24-56_sorted_2024-12-13_09-48-25', 'ecephys_753125_2024-10-09_10-50-19_sorted_2024-11-09_20-03-58', 'ecephys_753125_2024-10-10_14-41-23_sorted_2024-11-09_20-18-36', 'ecephys_753125_2024-10-14_15-37-15_sorted_2024-11-09_20-07-38', 'ecephys_753125_2024-10-15_16-16-22_sorted_2024-11-09_19-57-50', 'ecephys_753126_2024-10-10_17-51-24_sorted_2025-02-21_13-56-40', 'ecephys_753126_2024-10-11_13-14-24_sorted_2024-11-09_19-18-21', 'ecephys_753126_2024-10-15_12-20-35_sorted_2024-11-09_19-47-57', 'ecephys_764769_2024-12-11_18-21-49_sorted_2024-12-13_10-04-48', 'ecephys_764769_2024-12-12_16-05-00_sorted_2024-12-13_10-34-23', 'ecephys_764769_2024-12-13_15-41-07_sorted_2024-12-17_18-00-23', 'ecephys_764787_2024-12-10_13-42-03_sorted_2025-01-24_15-52-45', 'ecephys_764787_2024-12-11_15-01-15_sorted_2025-02-21_17-11-57', 'ecephys_764787_2024-12-12_11-54-14_sorted_2024-12-13_10-39-18', 'ecephys_764787_2024-12-13_18-27-42_sorted_2024-12-17_18-31-24', 'ecephys_764790_2024-12-17_16-57-52_sorted_2024-12-20_18-46-41', 'ecephys_764790_2024-12-18_12-14-41_sorted_2024-12-21_23-37-20', 'ecephys_764790_2024-12-19_16-11-34_sorted_2025-02-21_14-46-33', 'ecephys_764790_2024-12-20_16-56-37_sorted_2024-12-22_00-06-37', 'ecephys_764791_2025-01-14_12-04-05_sorted_2025-04-24_18-24-08', 'ecephys_764791_2025-01-15_13-08-58_sorted_2025-01-16_11-46-50', 'ecephys_764791_2025-01-16_12-50-17_sorted_2025-04-25_14-11-37', 'ecephys_769882_2025-01-28_19-07-31_sorted_2025-01-29_04-56-02', 'ecephys_769884_2025-01-14_14-53-24_sorted_2025-01-24_14-20-13', 'ecephys_769884_2025-01-15_16-12-59_sorted_2025-04-24_17-11-57', 'ecephys_769884_2025-01-16_18-33-11_sorted_2025-04-24_19-24-23', 'ecephys_776293_2025-02-14_15-19-17_sorted_2025-02-28_21-37-07', 'ecephys_776293_2025-02-18_12-51-36_sorted_2025-03-30_05-50-33', 'ecephys_776293_2025-02-19_14-01-07_sorted_2025-03-30_08-55-28', 'ecephys_776293_2025-02-20_14-03-10_sorted_2025-03-30_03-39-17', 'ecephys_781471_2025-03-27_13-39-06_sorted_2025-03-31_11-52-53', 'ecephys_781471_2025-03-28_15-06-14_sorted_2025-03-31_14-10-16', 'ecephys_781471_2025-03-31_14-33-03_sorted_2025-04-01_15-50-16']\n",
      "\n",
      "=== Processing session ecephys_753124_2024-12-10_17-24-56_sorted_2024-12-13_09-48-25 ===\n",
      "Warning: No folder matching '/root/capsule/data/*753124_2024-12-10_17-24-56_*processed*' found.\n",
      "Found behavior NWB: /root/capsule/data/behavior_nwb/753124_2024-12-10_17-24-56.nwb\n"
     ]
    },
    {
     "name": "stderr",
     "output_type": "stream",
     "text": [
      "/opt/conda/lib/python3.10/site-packages/hdmf/spec/namespace.py:535: UserWarning: Ignoring cached namespace 'core' version 2.6.0-alpha because version 2.7.0 is already loaded.\n",
      "  warn(\"Ignoring cached namespace '%s' version %s because version %s is already loaded.\"\n"
     ]
    },
    {
     "name": "stdout",
     "output_type": "stream",
     "text": [
      "Successfully read behavior NWB from: /root/capsule/data/behavior_nwb/753124_2024-12-10_17-24-56.nwb\n",
      "Combined summary saved to /root/capsule/results/behavior_summary_ecephys_753124_2024-12-10_17-24-56_sorted_2024-12-13_09-48-25.csv\n",
      "Processing session ecephys_753124_2024-12-10_17-24-56_sorted_2024-12-13_09-48-25...\n",
      "Found ephys NWB: /root/capsule/data/ecephys_753124_2024-12-10_17-24-56_sorted_2024-12-13_09-48-25/nwb/ecephys_753124_2024-12-10_17-24-56_experiment1_recording1.nwb\n",
      "Successfully read ephys NWB from: /root/capsule/data/ecephys_753124_2024-12-10_17-24-56_sorted_2024-12-13_09-48-25/nwb/ecephys_753124_2024-12-10_17-24-56_experiment1_recording1.nwb\n",
      "Found behavior NWB: /root/capsule/data/behavior_nwb/753124_2024-12-10_17-24-56.nwb\n",
      "Successfully read behavior NWB from: /root/capsule/data/behavior_nwb/753124_2024-12-10_17-24-56.nwb\n",
      "Successfully appended units table to behavior NWB.\n",
      "Number of units passing QC: 528\n"
     ]
    },
    {
     "name": "stderr",
     "output_type": "stream",
     "text": [
      "/root/capsule/src/aind_dft_ephys_analysis/ephys_behavior.py:277: RuntimeWarning: invalid value encountered in divide\n",
      "  rates_to_store = (rates_to_store - m) / sd\n"
     ]
    },
    {
     "name": "stdout",
     "output_type": "stream",
     "text": [
      "Combined DataFrame saved to /root/capsule/results/firing_rates_ecephys_753124_2024-12-10_17-24-56_sorted_2024-12-13_09-48-25.csv\n",
      "Processing session '753124_2024-12-10_17-24-56', unit 9 (row 1/2112)...\n",
      "  -> Model: simple_LR, Variable: QLearning_L1F1_CK1_softmax_q_value_difference\n"
     ]
    }
   ],
   "source": [
    "from behavior_utils import generate_behavior_summary_combined\n",
    "from general_utils import find_ephys_sessions\n",
    "from general_utils import smart_read_csv\n",
    "import pandas as pd\n",
    "from ephys_behavior import (\n",
    "    plot_raster_graph,\n",
    "    get_the_mean_firing_rate_combined,   # ← updated name here\n",
    "    correlate_firing_latent\n",
    ")\n",
    "import os\n",
    "\n",
    "# 1) find your sorted sessions\n",
    "_, _, spike_sorted_sessions = find_ephys_sessions()\n",
    "print(\"Sessions to process:\", spike_sorted_sessions)\n",
    "\n",
    "# 2) set up models & variables as before…\n",
    "models = [\n",
    "    'simple_LR','ARMA_model','ARDL_model',\n",
    "    'cyclic_shift','linear_shift','phase_randomization'\n",
    "]\n",
    "\n",
    "models = [\n",
    "    'simple_LR'\n",
    "]\n",
    "\n",
    "\n",
    "variables = [\n",
    "    'QLearning_L1F1_CK1_softmax_q_value_difference',\n",
    "    'QLearning_L1F1_CK1_softmax_total_value',\n",
    "    'QLearning_L1F1_CK1_softmax_right_choice_probability',\n",
    "    'QLearning_L1F1_CK1_softmax_RPE',\n",
    "    'QLearning_L2F1_softmax_q_value_difference',\n",
    "    'QLearning_L2F1_softmax_total_value',\n",
    "    'QLearning_L2F1_softmax_right_choice_probability',\n",
    "    'QLearning_L2F1_softmax_RPE',\n",
    "    'QLearning_L2F1_CK1_softmax_q_value_difference',\n",
    "    'QLearning_L2F1_CK1_softmax_total_value',\n",
    "    'QLearning_L2F1_CK1_softmax_right_choice_probability',\n",
    "    'QLearning_L2F1_CK1_softmax_RPE',\n",
    "]\n",
    "\n",
    "\n",
    "# 3) ensure results folder\n",
    "results_folder = '/root/capsule/results'\n",
    "os.makedirs(results_folder, exist_ok=True)\n",
    "\n",
    "# 4) iterate sessions\n",
    "for sess in spike_sorted_sessions:\n",
    "    try:\n",
    "        print(f\"\\n=== Processing session {sess} ===\")\n",
    "\n",
    "        # a) behavior summary\n",
    "        generate_behavior_summary_combined(\n",
    "            session_names=[sess],\n",
    "            save_result=True,\n",
    "            save_folder=results_folder,\n",
    "            save_name=f\"behavior_summary_{sess}.csv\"\n",
    "        )\n",
    "\n",
    "        # b) firing rates (note the new call here)\n",
    "        get_the_mean_firing_rate_combined(\n",
    "            session_names=[sess],\n",
    "            save_result=True,\n",
    "            save_folder=results_folder,\n",
    "            save_name=f\"firing_rates_{sess}.csv\"\n",
    "        )\n",
    "        df_combined_firing_rates    = smart_read_csv(os.path.join(results_folder, f\"firing_rates_{sess}.csv\"))\n",
    "        df_combined_behavior_summary = smart_read_csv(os.path.join(results_folder, f\"behavior_summary_{sess}.csv\"))\n",
    "        # c) correlations\n",
    "        correlate_firing_latent(\n",
    "            df_combined_firing_rates,\n",
    "            df_combined_behavior_summary,\n",
    "            variables=variables,\n",
    "            correlation_model=models,\n",
    "            save_result=True,\n",
    "            save_folder=results_folder,\n",
    "            save_name=f\"correlations_{sess}.csv\"\n",
    "        )\n",
    "\n",
    "    except Exception as e:\n",
    "        print(f\"!! Error in session {sess}: {e}\")\n",
    "        continue\n"
   ]
  }
 ],
 "metadata": {
  "kernelspec": {
   "display_name": "base",
   "language": "python",
   "name": "python3"
  },
  "language_info": {
   "codemirror_mode": {
    "name": "ipython",
    "version": 3
   },
   "file_extension": ".py",
   "mimetype": "text/x-python",
   "name": "python",
   "nbconvert_exporter": "python",
   "pygments_lexer": "ipython3",
   "version": "3.10.9"
  }
 },
 "nbformat": 4,
 "nbformat_minor": 2
}
