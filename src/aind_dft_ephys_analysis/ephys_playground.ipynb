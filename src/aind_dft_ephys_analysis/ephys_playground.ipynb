{
 "cells": [
  {
   "cell_type": "code",
   "execution_count": 1,
   "metadata": {},
   "outputs": [
    {
     "name": "stdout",
     "output_type": "stream",
     "text": [
      "Successfully read ephys NWB from: /root/capsule/data/ecephys_776293_2025-02-14_15-19-17_sorted_2025-02-28_21-37-07/nwb/ecephys_776293_2025-02-14_15-19-17_experiment1_recording1.nwb\n"
     ]
    },
    {
     "name": "stderr",
     "output_type": "stream",
     "text": [
      "/opt/conda/lib/python3.10/site-packages/hdmf/spec/namespace.py:535: UserWarning: Ignoring cached namespace 'core' version 2.8.0 because version 2.7.0 is already loaded.\n",
      "  warn(\"Ignoring cached namespace '%s' version %s because version %s is already loaded.\"\n"
     ]
    },
    {
     "name": "stdout",
     "output_type": "stream",
     "text": [
      "Successfully read ophys NWB from: /root/capsule/data/behavior_777403_2025-04-11_16-53-47_processed_2025-04-12_04-37-54/nwb/behavior_777403_2025-04-11_16-53-47.nwb\n"
     ]
    }
   ],
   "source": [
    "from nwb_utils import NWBUtils\n",
    "\n",
    "# Example ephys session\n",
    "ephys_path = \"/root/capsule/data/\" \\\n",
    "             \"ecephys_776293_2025-02-14_15-19-17_sorted_2025-02-28_21-37-07/\" \\\n",
    "             \"nwb/\" \\\n",
    "             \"ecephys_776293_2025-02-14_15-19-17_experiment1_recording1.nwb\"\n",
    "\n",
    "# Example behavior/ophys session\n",
    "ophys_path = \"/root/capsule/data/\" \\\n",
    "             \"behavior_777403_2025-04-11_16-53-47_processed_2025-04-12_04-37-54/\" \\\n",
    "             \"nwb/\" \\\n",
    "             \"behavior_777403_2025-04-11_16-53-47.nwb\"\n",
    "\n",
    "# Read ephys\n",
    "ephys_data = NWBUtils.read_ephys_nwb(nwb_full_path=ephys_path)\n",
    "# ephys_data will be None on failure, or the NWBFile-like object on success.\n",
    "\n",
    "# Read ophys/behavior\n",
    "ophys_data = NWBUtils.read_ophys_nwb(nwb_full_path=ophys_path)\n",
    "# ophys_data will likewise be None on failure, or the NWBFile-like object on success.\n"
   ]
  },
  {
   "cell_type": "code",
   "execution_count": 2,
   "metadata": {},
   "outputs": [
    {
     "name": "stdout",
     "output_type": "stream",
     "text": [
      "Found ephys NWB: /root/capsule/data/ecephys_776293_2025-02-14_15-19-17_sorted_2025-02-28_21-37-07/nwb/ecephys_776293_2025-02-14_15-19-17_experiment1_recording1.nwb\n",
      "Successfully read ephys NWB from: /root/capsule/data/ecephys_776293_2025-02-14_15-19-17_sorted_2025-02-28_21-37-07/nwb/ecephys_776293_2025-02-14_15-19-17_experiment1_recording1.nwb\n",
      "Found ophys NWB: /root/capsule/data/behavior_777403_2025-04-11_16-53-47_processed_2025-04-12_04-37-54/nwb/behavior_777403_2025-04-11_16-53-47.nwb\n",
      "Successfully read ophys NWB from: /root/capsule/data/behavior_777403_2025-04-11_16-53-47_processed_2025-04-12_04-37-54/nwb/behavior_777403_2025-04-11_16-53-47.nwb\n"
     ]
    }
   ],
   "source": [
    "from nwb_utils import NWBUtils\n",
    "\n",
    "ephys_data = NWBUtils.read_ephys_nwb(\n",
    "    session_name=\"776293_2025-02-14_15-19-17\"\n",
    ")\n",
    "\n",
    "ophys_data = NWBUtils.read_ophys_nwb(\n",
    "    session_name=\"777403_2025-04-11_16-53-47\"\n",
    ")\n"
   ]
  },
  {
   "cell_type": "code",
   "execution_count": 2,
   "metadata": {},
   "outputs": [
    {
     "name": "stdout",
     "output_type": "stream",
     "text": [
      "All ephys sessions: ['ecephys_706893_2024-05-28_15-15-38', 'ecephys_753124_2024-12-10_17-24-56_sorted_2024-12-13_09-48-25', 'ecephys_753125_2024-10-09_10-50-19_sorted_2024-11-09_20-03-58', 'ecephys_753125_2024-10-10_14-41-23_sorted_2024-11-09_20-18-36', 'ecephys_753125_2024-10-14_15-37-15_sorted_2024-11-09_20-07-38', 'ecephys_753125_2024-10-15_16-16-22_sorted_2024-11-09_19-57-50', 'ecephys_753126_2024-10-10_17-51-24_sorted_2025-02-21_13-56-40', 'ecephys_753126_2024-10-11_13-14-24_sorted_2024-11-09_19-18-21', 'ecephys_753126_2024-10-15_12-20-35_sorted_2024-11-09_19-47-57', 'ecephys_764769_2024-12-11_18-21-49_sorted_2024-12-13_10-04-48', 'ecephys_764769_2024-12-12_16-05-00_sorted_2024-12-13_10-34-23', 'ecephys_764769_2024-12-13_15-41-07_sorted_2024-12-17_18-00-23', 'ecephys_764787_2024-12-10_13-42-03_sorted_2025-01-24_15-52-45', 'ecephys_764787_2024-12-11_15-01-15_sorted_2025-02-21_17-11-57', 'ecephys_764787_2024-12-12_11-54-14_sorted_2024-12-13_10-39-18', 'ecephys_764787_2024-12-13_18-27-42_sorted_2024-12-17_18-31-24', 'ecephys_764790_2024-12-17_16-57-52_sorted_2024-12-20_18-46-41', 'ecephys_764790_2024-12-18_12-14-41_sorted_2024-12-21_23-37-20', 'ecephys_764790_2024-12-19_16-11-34_sorted_2025-02-21_14-46-33', 'ecephys_764790_2024-12-20_16-56-37_sorted_2024-12-22_00-06-37', 'ecephys_764791_2025-01-14_12-04-05_sorted_2025-04-24_18-24-08', 'ecephys_764791_2025-01-15_13-08-58_sorted_2025-01-16_11-46-50', 'ecephys_764791_2025-01-16_12-50-17_sorted_2025-04-25_14-11-37', 'ecephys_769882_2025-01-28_19-07-31', 'ecephys_769882_2025-01-28_19-07-31_sorted_2025-01-29_04-56-02', 'ecephys_769884_2025-01-14_14-53-24_sorted_2025-01-24_14-20-13', 'ecephys_769884_2025-01-15_16-12-59_sorted_2025-04-24_17-11-57', 'ecephys_769884_2025-01-16_18-33-11_sorted_2025-04-24_19-24-23', 'ecephys_776293_2025-02-14_15-19-17_sorted_2025-02-28_21-37-07', 'ecephys_776293_2025-02-18_12-51-36_sorted_2025-03-30_05-50-33', 'ecephys_776293_2025-02-19_14-01-07_sorted_2025-03-30_08-55-28', 'ecephys_776293_2025-02-20_14-03-10_sorted_2025-03-30_03-39-17', 'ecephys_781471_2025-03-27_13-39-06_sorted_2025-03-31_11-52-53', 'ecephys_781471_2025-03-28_15-06-14_sorted_2025-03-31_14-10-16', 'ecephys_781471_2025-03-31_14-33-03_sorted_2025-04-01_15-50-16']\n",
      "Spike-sorted sessions: ['ecephys_753124_2024-12-10_17-24-56_sorted_2024-12-13_09-48-25', 'ecephys_753125_2024-10-09_10-50-19_sorted_2024-11-09_20-03-58', 'ecephys_753125_2024-10-10_14-41-23_sorted_2024-11-09_20-18-36', 'ecephys_753125_2024-10-14_15-37-15_sorted_2024-11-09_20-07-38', 'ecephys_753125_2024-10-15_16-16-22_sorted_2024-11-09_19-57-50', 'ecephys_753126_2024-10-10_17-51-24_sorted_2025-02-21_13-56-40', 'ecephys_753126_2024-10-11_13-14-24_sorted_2024-11-09_19-18-21', 'ecephys_753126_2024-10-15_12-20-35_sorted_2024-11-09_19-47-57', 'ecephys_764769_2024-12-11_18-21-49_sorted_2024-12-13_10-04-48', 'ecephys_764769_2024-12-12_16-05-00_sorted_2024-12-13_10-34-23', 'ecephys_764769_2024-12-13_15-41-07_sorted_2024-12-17_18-00-23', 'ecephys_764787_2024-12-10_13-42-03_sorted_2025-01-24_15-52-45', 'ecephys_764787_2024-12-11_15-01-15_sorted_2025-02-21_17-11-57', 'ecephys_764787_2024-12-12_11-54-14_sorted_2024-12-13_10-39-18', 'ecephys_764787_2024-12-13_18-27-42_sorted_2024-12-17_18-31-24', 'ecephys_764790_2024-12-17_16-57-52_sorted_2024-12-20_18-46-41', 'ecephys_764790_2024-12-18_12-14-41_sorted_2024-12-21_23-37-20', 'ecephys_764790_2024-12-19_16-11-34_sorted_2025-02-21_14-46-33', 'ecephys_764790_2024-12-20_16-56-37_sorted_2024-12-22_00-06-37', 'ecephys_764791_2025-01-14_12-04-05_sorted_2025-04-24_18-24-08', 'ecephys_764791_2025-01-15_13-08-58_sorted_2025-01-16_11-46-50', 'ecephys_764791_2025-01-16_12-50-17_sorted_2025-04-25_14-11-37', 'ecephys_769882_2025-01-28_19-07-31_sorted_2025-01-29_04-56-02', 'ecephys_769884_2025-01-14_14-53-24_sorted_2025-01-24_14-20-13', 'ecephys_769884_2025-01-15_16-12-59_sorted_2025-04-24_17-11-57', 'ecephys_769884_2025-01-16_18-33-11_sorted_2025-04-24_19-24-23', 'ecephys_776293_2025-02-14_15-19-17_sorted_2025-02-28_21-37-07', 'ecephys_776293_2025-02-18_12-51-36_sorted_2025-03-30_05-50-33', 'ecephys_776293_2025-02-19_14-01-07_sorted_2025-03-30_08-55-28', 'ecephys_776293_2025-02-20_14-03-10_sorted_2025-03-30_03-39-17', 'ecephys_781471_2025-03-27_13-39-06_sorted_2025-03-31_11-52-53', 'ecephys_781471_2025-03-28_15-06-14_sorted_2025-03-31_14-10-16', 'ecephys_781471_2025-03-31_14-33-03_sorted_2025-04-01_15-50-16']\n",
      "All behavior sessions: ['behavior_762206_2025-01-17_16-20-02_processed_2025-01-18_07-17-12', 'behavior_762206_2025-01-18_17-48-17_processed_2025-01-19_06-46-32', 'behavior_762283_2025-01-09_17-36-00_processed_2025-01-10_09-53-40', 'behavior_769037_2025-02-11_17-01-10_processed_2025-02-13_05-33-07', 'behavior_769037_2025-02-13_16-54-02_processed_2025-02-14_05-05-43', 'behavior_769037_2025-02-18_17-56-48_processed_2025-02-19_05-27-47', 'behavior_769037_2025-02-20_16-34-59_processed_2025-02-21_05-26-11', 'behavior_769037_2025-02-21_16-39-56_processed_2025-02-22_05-37-25', 'behavior_769037_2025-02-24_16-43-38_processed_2025-02-25_05-26-08', 'behavior_769037_2025-02-25_16-19-27_processed_2025-02-26_05-30-08', 'behavior_769038_2025-01-17_13-35-08_processed_2025-02-23_11-17-46', 'behavior_769038_2025-01-27_13-10-43', 'behavior_769038_2025-01-27_13-10-43_processed_2025-01-28_18-08-07', 'behavior_769038_2025-01-28_13-59-14', 'behavior_769038_2025-01-28_13-59-14_processed_2025-01-29_05-34-15', 'behavior_769038_2025-01-31_13-07-20_processed_2025-02-01_08-40-32', 'behavior_769038_2025-02-03_13-50-29_processed_2025-02-04_06-06-39', 'behavior_769038_2025-02-04_13-06-15_processed_2025-02-05_06-02-11', 'behavior_769038_2025-02-05_12-53-47_processed_2025-02-06_06-15-40', 'behavior_769038_2025-02-06_12-59-44_processed_2025-02-07_05-48-41', 'behavior_769038_2025-02-07_13-12-23_processed_2025-02-08_07-51-40', 'behavior_769038_2025-02-10_13-16-09_processed_2025-02-11_07-14-26', 'behavior_769038_2025-02-11_13-24-12_processed_2025-02-12_07-17-13', 'behavior_769038_2025-02-12_12-48-11_processed_2025-02-13_05-53-26', 'behavior_769038_2025-02-13_13-19-30_processed_2025-02-14_05-35-07', 'behavior_769038_2025-02-14_12-51-23_processed_2025-02-15_05-56-30', 'behavior_770528_2025-02-10_17-16-38_processed_2025-02-11_07-11-00', 'behavior_770528_2025-02-13_16-54-06_processed_2025-02-14_05-26-45', 'behavior_770528_2025-02-17_18-28-01_processed_2025-02-18_05-32-04', 'behavior_770528_2025-02-18_17-52-56_processed_2025-02-19_05-08-20', 'behavior_770528_2025-02-20_16-32-44_processed_2025-02-23_13-22-47', 'behavior_770528_2025-02-21_16-39-58_processed_2025-02-22_05-19-23', 'behavior_770528_2025-02-24_16-43-11_processed_2025-02-25_05-12-19', 'behavior_770528_2025-02-26_16-25-12_processed_2025-02-27_05-26-35', 'behavior_770528_2025-02-27_16-03-02_processed_2025-02-28_05-25-57', 'behavior_770528_2025-03-03_16-53-22_processed_2025-03-04_06-14-35', 'behavior_770528_2025-03-04_16-39-30_processed_2025-03-05_05-06-28', 'behavior_770528_2025-03-07_16-40-08_processed_2025-03-08_05-10-01', 'behavior_773352_2025-01-24_11-57-43_processed_2025-02-22_18-57-16_1', 'behavior_773352_2025-01-24_11-57-43_processed_2025-02-22_18-57-16', 'behavior_773352_2025-01-27_11-22-34', 'behavior_773352_2025-01-27_11-22-34_processed_2025-01-28_05-08-25', 'behavior_773352_2025-01-30_11-34-24_processed_2025-02-23_12-40-17', 'behavior_773352_2025-01-30_11-34-24_processed_2025-02-22_19-28-07', 'behavior_773352_2025-01-31_11-17-08_processed_2025-02-01_08-23-19', 'behavior_773352_2025-02-04_12-08-19_processed_2025-02-05_05-45-33', 'behavior_773352_2025-02-05_11-14-04_processed_2025-02-06_05-32-03', 'behavior_773352_2025-02-06_11-11-31_processed_2025-02-07_05-35-35', 'behavior_773352_2025-02-14_11-11-00_processed_2025-02-15_05-27-16', 'behavior_773352_2025-02-17_11-10-44_processed_2025-02-18_05-07-41', 'behavior_773352_2025-02-18_12-22-14_processed_2025-02-19_05-11-57', 'behavior_773352_2025-02-19_11-19-37_processed_2025-02-20_05-23-36', 'behavior_773352_2025-02-20_11-30-20_processed_2025-02-21_05-16-16', 'behavior_773352_2025-02-21_11-12-55_processed_2025-02-22_05-30-04', 'behavior_773352_2025-02-24_16-48-02_processed_2025-02-25_05-38-41', 'behavior_773352_2025-02-25_16-34-05_processed_2025-02-26_05-54-36', 'behavior_773352_2025-02-26_16-25-42_processed_2025-02-27_06-35-55', 'behavior_773352_2025-02-27_16-02-57_processed_2025-02-28_05-56-57', 'behavior_773352_2025-03-03_16-49-53_processed_2025-03-04_05-59-53', 'behavior_773352_2025-03-04_16-39-48_processed_2025-03-05_06-07-48', 'behavior_777403_2025-04-02_16-36-15_processed_2025-04-03_05-18-50', 'behavior_777403_2025-04-03_16-31-12_processed_2025-04-04_05-44-16', 'behavior_777403_2025-04-07_16-28-26_processed_2025-04-09_19-44-46', 'behavior_777403_2025-04-07_16-28-26_processed_2025-04-08_17-13-28', 'behavior_777403_2025-04-08_16-40-47_processed_2025-04-09_05-12-19', 'behavior_777403_2025-04-09_16-41-57_processed_2025-04-10_05-12-59', 'behavior_777403_2025-04-11_16-53-47_processed_2025-04-12_04-37-54', 'behavior_777403_2025-04-14_17-02-07_processed_2025-04-15_05-20-53', 'behavior_777405_2025-04-01_17-10-42_processed_2025-04-02_06-09-29', 'behavior_777405_2025-04-02_16-46-33_processed_2025-04-03_05-22-05', 'behavior_777405_2025-04-03_16-23-42_processed_2025-04-04_06-03-51', 'behavior_777405_2025-04-07_16-22-07_processed_2025-04-08_17-27-40', 'behavior_777405_2025-04-08_16-36-10_processed_2025-04-09_05-04-26', 'behavior_777405_2025-04-09_16-35-06_processed_2025-04-10_05-39-46', 'behavior_777405_2025-04-11_16-42-31_processed_2025-04-12_06-06-28', 'behavior_777407_2025-04-02_16-57-03_processed_2025-04-03_05-15-02', 'behavior_777407_2025-04-03_16-31-52_processed_2025-04-04_07-47-37', 'behavior_777407_2025-04-08_16-40-49_processed_2025-04-09_05-27-05', 'behavior_777407_2025-04-09_16-41-07_processed_2025-04-10_05-35-53', 'behavior_777407_2025-04-11_16-53-44_processed_2025-04-12_05-58-52', 'behavior_777407_2025-04-14_17-02-05_processed_2025-04-15_07-00-32', 'behavior_781470_2025-04-01_17-07-45_processed_2025-04-02_05-34-56', 'behavior_781470_2025-04-02_16-45-00_processed_2025-04-03_05-14-10', 'behavior_781470_2025-04-03_16-23-25_processed_2025-04-04_04-53-32', 'behavior_781470_2025-04-07_16-22-02_processed_2025-04-09_21-43-00', 'behavior_781470_2025-04-08_16-36-05_processed_2025-04-09_05-42-18', 'behavior_781470_2025-04-09_16-35-14_processed_2025-04-10_06-00-29', 'behavior_781470_2025-04-14_17-05-33_processed_2025-04-15_05-49-07', 'behavior_781477_2025-04-01_17-08-41_processed_2025-04-02_05-41-52', 'behavior_781477_2025-04-02_16-45-29_processed_2025-04-03_05-51-08', 'behavior_781477_2025-04-03_16-23-29_processed_2025-04-04_05-27-31', 'behavior_781477_2025-04-07_16-22-05_processed_2025-04-09_23-09-17', 'behavior_781477_2025-04-07_16-22-05_processed_2025-04-08_18-06-19', 'behavior_781477_2025-04-08_16-36-08_processed_2025-04-09_05-27-17', 'behavior_781477_2025-04-09_16-35-05_processed_2025-04-10_06-04-18', 'behavior_781477_2025-04-11_16-36-25_processed_2025-04-12_06-10-35', 'behavior_781477_2025-04-14_16-54-53_processed_2025-04-15_07-16-47']\n",
      "Processed behavior sessions: ['behavior_762206_2025-01-17_16-20-02_processed_2025-01-18_07-17-12', 'behavior_762206_2025-01-18_17-48-17_processed_2025-01-19_06-46-32', 'behavior_762283_2025-01-09_17-36-00_processed_2025-01-10_09-53-40', 'behavior_769037_2025-02-11_17-01-10_processed_2025-02-13_05-33-07', 'behavior_769037_2025-02-13_16-54-02_processed_2025-02-14_05-05-43', 'behavior_769037_2025-02-18_17-56-48_processed_2025-02-19_05-27-47', 'behavior_769037_2025-02-20_16-34-59_processed_2025-02-21_05-26-11', 'behavior_769037_2025-02-21_16-39-56_processed_2025-02-22_05-37-25', 'behavior_769037_2025-02-24_16-43-38_processed_2025-02-25_05-26-08', 'behavior_769037_2025-02-25_16-19-27_processed_2025-02-26_05-30-08', 'behavior_769038_2025-01-17_13-35-08_processed_2025-02-23_11-17-46', 'behavior_769038_2025-01-27_13-10-43_processed_2025-01-28_18-08-07', 'behavior_769038_2025-01-28_13-59-14_processed_2025-01-29_05-34-15', 'behavior_769038_2025-01-31_13-07-20_processed_2025-02-01_08-40-32', 'behavior_769038_2025-02-03_13-50-29_processed_2025-02-04_06-06-39', 'behavior_769038_2025-02-04_13-06-15_processed_2025-02-05_06-02-11', 'behavior_769038_2025-02-05_12-53-47_processed_2025-02-06_06-15-40', 'behavior_769038_2025-02-06_12-59-44_processed_2025-02-07_05-48-41', 'behavior_769038_2025-02-07_13-12-23_processed_2025-02-08_07-51-40', 'behavior_769038_2025-02-10_13-16-09_processed_2025-02-11_07-14-26', 'behavior_769038_2025-02-11_13-24-12_processed_2025-02-12_07-17-13', 'behavior_769038_2025-02-12_12-48-11_processed_2025-02-13_05-53-26', 'behavior_769038_2025-02-13_13-19-30_processed_2025-02-14_05-35-07', 'behavior_769038_2025-02-14_12-51-23_processed_2025-02-15_05-56-30', 'behavior_770528_2025-02-10_17-16-38_processed_2025-02-11_07-11-00', 'behavior_770528_2025-02-13_16-54-06_processed_2025-02-14_05-26-45', 'behavior_770528_2025-02-17_18-28-01_processed_2025-02-18_05-32-04', 'behavior_770528_2025-02-18_17-52-56_processed_2025-02-19_05-08-20', 'behavior_770528_2025-02-20_16-32-44_processed_2025-02-23_13-22-47', 'behavior_770528_2025-02-21_16-39-58_processed_2025-02-22_05-19-23', 'behavior_770528_2025-02-24_16-43-11_processed_2025-02-25_05-12-19', 'behavior_770528_2025-02-26_16-25-12_processed_2025-02-27_05-26-35', 'behavior_770528_2025-02-27_16-03-02_processed_2025-02-28_05-25-57', 'behavior_770528_2025-03-03_16-53-22_processed_2025-03-04_06-14-35', 'behavior_770528_2025-03-04_16-39-30_processed_2025-03-05_05-06-28', 'behavior_770528_2025-03-07_16-40-08_processed_2025-03-08_05-10-01', 'behavior_773352_2025-01-24_11-57-43_processed_2025-02-22_18-57-16_1', 'behavior_773352_2025-01-24_11-57-43_processed_2025-02-22_18-57-16', 'behavior_773352_2025-01-27_11-22-34_processed_2025-01-28_05-08-25', 'behavior_773352_2025-01-30_11-34-24_processed_2025-02-23_12-40-17', 'behavior_773352_2025-01-30_11-34-24_processed_2025-02-22_19-28-07', 'behavior_773352_2025-01-31_11-17-08_processed_2025-02-01_08-23-19', 'behavior_773352_2025-02-04_12-08-19_processed_2025-02-05_05-45-33', 'behavior_773352_2025-02-05_11-14-04_processed_2025-02-06_05-32-03', 'behavior_773352_2025-02-06_11-11-31_processed_2025-02-07_05-35-35', 'behavior_773352_2025-02-14_11-11-00_processed_2025-02-15_05-27-16', 'behavior_773352_2025-02-17_11-10-44_processed_2025-02-18_05-07-41', 'behavior_773352_2025-02-18_12-22-14_processed_2025-02-19_05-11-57', 'behavior_773352_2025-02-19_11-19-37_processed_2025-02-20_05-23-36', 'behavior_773352_2025-02-20_11-30-20_processed_2025-02-21_05-16-16', 'behavior_773352_2025-02-21_11-12-55_processed_2025-02-22_05-30-04', 'behavior_773352_2025-02-24_16-48-02_processed_2025-02-25_05-38-41', 'behavior_773352_2025-02-25_16-34-05_processed_2025-02-26_05-54-36', 'behavior_773352_2025-02-26_16-25-42_processed_2025-02-27_06-35-55', 'behavior_773352_2025-02-27_16-02-57_processed_2025-02-28_05-56-57', 'behavior_773352_2025-03-03_16-49-53_processed_2025-03-04_05-59-53', 'behavior_773352_2025-03-04_16-39-48_processed_2025-03-05_06-07-48', 'behavior_777403_2025-04-02_16-36-15_processed_2025-04-03_05-18-50', 'behavior_777403_2025-04-03_16-31-12_processed_2025-04-04_05-44-16', 'behavior_777403_2025-04-07_16-28-26_processed_2025-04-09_19-44-46', 'behavior_777403_2025-04-07_16-28-26_processed_2025-04-08_17-13-28', 'behavior_777403_2025-04-08_16-40-47_processed_2025-04-09_05-12-19', 'behavior_777403_2025-04-09_16-41-57_processed_2025-04-10_05-12-59', 'behavior_777403_2025-04-11_16-53-47_processed_2025-04-12_04-37-54', 'behavior_777403_2025-04-14_17-02-07_processed_2025-04-15_05-20-53', 'behavior_777405_2025-04-01_17-10-42_processed_2025-04-02_06-09-29', 'behavior_777405_2025-04-02_16-46-33_processed_2025-04-03_05-22-05', 'behavior_777405_2025-04-03_16-23-42_processed_2025-04-04_06-03-51', 'behavior_777405_2025-04-07_16-22-07_processed_2025-04-08_17-27-40', 'behavior_777405_2025-04-08_16-36-10_processed_2025-04-09_05-04-26', 'behavior_777405_2025-04-09_16-35-06_processed_2025-04-10_05-39-46', 'behavior_777405_2025-04-11_16-42-31_processed_2025-04-12_06-06-28', 'behavior_777407_2025-04-02_16-57-03_processed_2025-04-03_05-15-02', 'behavior_777407_2025-04-03_16-31-52_processed_2025-04-04_07-47-37', 'behavior_777407_2025-04-08_16-40-49_processed_2025-04-09_05-27-05', 'behavior_777407_2025-04-09_16-41-07_processed_2025-04-10_05-35-53', 'behavior_777407_2025-04-11_16-53-44_processed_2025-04-12_05-58-52', 'behavior_777407_2025-04-14_17-02-05_processed_2025-04-15_07-00-32', 'behavior_781470_2025-04-01_17-07-45_processed_2025-04-02_05-34-56', 'behavior_781470_2025-04-02_16-45-00_processed_2025-04-03_05-14-10', 'behavior_781470_2025-04-03_16-23-25_processed_2025-04-04_04-53-32', 'behavior_781470_2025-04-07_16-22-02_processed_2025-04-09_21-43-00', 'behavior_781470_2025-04-08_16-36-05_processed_2025-04-09_05-42-18', 'behavior_781470_2025-04-09_16-35-14_processed_2025-04-10_06-00-29', 'behavior_781470_2025-04-14_17-05-33_processed_2025-04-15_05-49-07', 'behavior_781477_2025-04-01_17-08-41_processed_2025-04-02_05-41-52', 'behavior_781477_2025-04-02_16-45-29_processed_2025-04-03_05-51-08', 'behavior_781477_2025-04-03_16-23-29_processed_2025-04-04_05-27-31', 'behavior_781477_2025-04-07_16-22-05_processed_2025-04-09_23-09-17', 'behavior_781477_2025-04-07_16-22-05_processed_2025-04-08_18-06-19', 'behavior_781477_2025-04-08_16-36-08_processed_2025-04-09_05-27-17', 'behavior_781477_2025-04-09_16-35-05_processed_2025-04-10_06-04-18', 'behavior_781477_2025-04-11_16-36-25_processed_2025-04-12_06-10-35', 'behavior_781477_2025-04-14_16-54-53_processed_2025-04-15_07-16-47']\n",
      "\n",
      "Loading ephys session: ecephys_753124_2024-12-10_17-24-56_sorted_2024-12-13_09-48-25\n",
      "Found ephys NWB: /root/capsule/data/ecephys_753124_2024-12-10_17-24-56_sorted_2024-12-13_09-48-25/nwb/ecephys_753124_2024-12-10_17-24-56_experiment1_recording1.nwb\n",
      "Successfully read ephys NWB from: /root/capsule/data/ecephys_753124_2024-12-10_17-24-56_sorted_2024-12-13_09-48-25/nwb/ecephys_753124_2024-12-10_17-24-56_experiment1_recording1.nwb\n",
      "\n",
      "Loading behavior session: behavior_762206_2025-01-17_16-20-02_processed_2025-01-18_07-17-12\n",
      "Found ophys NWB: /root/capsule/data/behavior_762206_2025-01-17_16-20-02_processed_2025-01-18_07-17-12/nwb/behavior_762206_2025-01-17_16-20-02.nwb\n",
      "Successfully read ophys NWB from: /root/capsule/data/behavior_762206_2025-01-17_16-20-02_processed_2025-01-18_07-17-12/nwb/behavior_762206_2025-01-17_16-20-02.nwb\n"
     ]
    }
   ],
   "source": [
    "from utils_general import find_ephys_sessions, find_behavior_sessions\n",
    "from nwb_utils import NWBUtils\n",
    "\n",
    "def main():\n",
    "    data_root = '/root/capsule/data/'\n",
    "\n",
    "    # 1. Find all ephys sessions\n",
    "    all_ephys, ephys_by_animal, spike_sorted = find_ephys_sessions(data_root)\n",
    "    print(\"All ephys sessions:\", all_ephys)\n",
    "    print(\"Spike-sorted sessions:\", spike_sorted)\n",
    "\n",
    "    # 2. Find all behavior sessions\n",
    "    all_behav, behav_by_animal, processed_behav = find_behavior_sessions(data_root)\n",
    "    print(\"All behavior sessions:\", all_behav)\n",
    "    print(\"Processed behavior sessions:\", processed_behav)\n",
    "\n",
    "    # 3. Read the first spike-sorted ephys session\n",
    "    if spike_sorted:\n",
    "        first_ephys = spike_sorted[0]\n",
    "        print(f\"\\nLoading ephys session: {first_ephys}\")\n",
    "        ephys_data = NWBUtils.read_ephys_nwb(\n",
    "            session_name=first_ephys,\n",
    "            folder_path=data_root\n",
    "        )\n",
    "        # ephys_data is None on failure, or the NWBFile-like object on success\n",
    "\n",
    "    # 4. Read the first processed behavior session\n",
    "    if processed_behav:\n",
    "        first_behav = processed_behav[0]\n",
    "        print(f\"\\nLoading behavior session: {first_behav}\")\n",
    "        behav_data = NWBUtils.read_ophys_nwb(\n",
    "            session_name=first_behav,\n",
    "            folder_path=data_root\n",
    "        )\n",
    "        # behav_data is None on failure, or the NWBFile-like object on success\n",
    "\n",
    "if __name__ == \"__main__\":\n",
    "    main()\n"
   ]
  }
 ],
 "metadata": {
  "kernelspec": {
   "display_name": "base",
   "language": "python",
   "name": "python3"
  },
  "language_info": {
   "codemirror_mode": {
    "name": "ipython",
    "version": 3
   },
   "file_extension": ".py",
   "mimetype": "text/x-python",
   "name": "python",
   "nbconvert_exporter": "python",
   "pygments_lexer": "ipython3",
   "version": "3.10.9"
  }
 },
 "nbformat": 4,
 "nbformat_minor": 2
}
